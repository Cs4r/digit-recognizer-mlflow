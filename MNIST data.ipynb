{
 "cells": [
  {
   "cell_type": "code",
   "execution_count": 1,
   "metadata": {},
   "outputs": [],
   "source": [
    "import pandas as pd\n",
    "import numpy as np\n",
    "import mlflow\n",
    "import mlflow.sklearn\n",
    "%matplotlib inline"
   ]
  },
  {
   "cell_type": "code",
   "execution_count": 2,
   "metadata": {},
   "outputs": [],
   "source": [
    "random_state = 2018"
   ]
  },
  {
   "cell_type": "code",
   "execution_count": 3,
   "metadata": {},
   "outputs": [],
   "source": [
    "np.random.seed(random_state)"
   ]
  },
  {
   "cell_type": "code",
   "execution_count": 4,
   "metadata": {},
   "outputs": [],
   "source": [
    "def generate_test_predictions(clf, clf_name, pca_components=150, random_state=2018):\n",
    "    data = pd.read_csv('./data/train.csv', low_memory=False, skiprows=0)\n",
    "    test_data = pd.read_csv('./data/test.csv', low_memory=False, skiprows=0)\n",
    "    images = data.loc[:, data.columns != \"label\"].values\n",
    "    labels = data[\"label\"].values\n",
    "    \n",
    "    # PCA\n",
    "    pca = PCA(n_components=pca_components, random_state=random_state)\n",
    "    pca.fit(images)\n",
    "    X_train_pca = pca.fit_transform(images)\n",
    "    X_test_pca = pca.fit_transform(test_data)\n",
    "    y_train = labels\n",
    "    \n",
    "    # Train classifier\n",
    "    clf.fit(X_train_pca,y_train)\n",
    "\n",
    "    # Generate test predictions    \n",
    "    y_pred = clf.predict(X_test_pca)\n",
    "    \n",
    "    \n",
    "    # Write test predictions into a file\n",
    "    ImageId=list(range(1,test_data.shape[0]+1))\n",
    "    results = np.column_stack((ImageId,y_pred))\n",
    "    np.savetxt(\"%s_predictions.csv\" % (clf_name),results,fmt='%i,%i',header='ImageId,Label',comments='')"
   ]
  },
  {
   "cell_type": "markdown",
   "metadata": {},
   "source": [
    "# Read data"
   ]
  },
  {
   "cell_type": "code",
   "execution_count": 5,
   "metadata": {},
   "outputs": [],
   "source": [
    "data = pd.read_csv('./data/train.csv', low_memory=False, skiprows=0)"
   ]
  },
  {
   "cell_type": "code",
   "execution_count": 6,
   "metadata": {},
   "outputs": [
    {
     "name": "stdout",
     "output_type": "stream",
     "text": [
      "Dimensionality of images: (42000, 784)\n",
      "Dimensionality of labels: (42000,)\n"
     ]
    }
   ],
   "source": [
    "images = data.loc[:, data.columns != \"label\"].values\n",
    "labels = data[\"label\"].values\n",
    "n_classes = 10\n",
    "labels_text = [\"0\", \"1\", \"2\", \"3\", \"4\", \"5\", \"6\", \"7\", \"8\", \"9\"]\n",
    "\n",
    "print(\"Dimensionality of images: {}\".format(images.shape))\n",
    "print(\"Dimensionality of labels: {}\".format(labels.shape))"
   ]
  },
  {
   "cell_type": "markdown",
   "metadata": {},
   "source": [
    "# Data visualization"
   ]
  },
  {
   "cell_type": "code",
   "execution_count": 7,
   "metadata": {
    "scrolled": true
   },
   "outputs": [
    {
     "data": {
      "image/png": "[encoded data removed]",
      "text/plain": [
       "<Figure size 720x720 with 10 Axes>"
      ]
     },
     "metadata": {},
     "output_type": "display_data"
    }
   ],
   "source": [
    "import matplotlib.pyplot as plt\n",
    "%matplotlib inline\n",
    "\n",
    "fig, ax = plt.subplots(1, n_classes, figsize=(10,10))\n",
    "\n",
    "idxs = [np.where(labels == i)[0] for i in range(n_classes)]\n",
    "\n",
    "for i in range(n_classes):\n",
    "    k = np.random.choice(idxs[i])\n",
    "    ax[i].imshow(images[k].reshape(28, 28), cmap=\"gray\")\n",
    "    ax[i].set_title(\"{}\".format(labels_text[i]))"
   ]
  },
  {
   "cell_type": "markdown",
   "metadata": {},
   "source": [
    "# Split data into train and test set "
   ]
  },
  {
   "cell_type": "code",
   "execution_count": 8,
   "metadata": {},
   "outputs": [],
   "source": [
    "from sklearn.model_selection import train_test_split\n",
    "\n",
    "X_train, X_test, y_train, y_test = train_test_split(images, labels, test_size=0.1, stratify=labels)"
   ]
  },
  {
   "cell_type": "markdown",
   "metadata": {},
   "source": [
    "# PCA before performing any kind of classification"
   ]
  },
  {
   "cell_type": "code",
   "execution_count": 9,
   "metadata": {},
   "outputs": [
    {
     "name": "stdout",
     "output_type": "stream",
     "text": [
      "Experiment id: 1\n"
     ]
    }
   ],
   "source": [
    "experiment_id = mlflow.create_experiment(\"PCA\")\n",
    "print(\"Experiment id: %d\" % experiment_id)"
   ]
  },
  {
   "cell_type": "code",
   "execution_count": 10,
   "metadata": {},
   "outputs": [],
   "source": [
    "from sklearn.decomposition import PCA\n",
    "\n",
    "number_of_features = images.shape[1]\n",
    "desired_variance_captured = 0.95\n",
    "\n",
    "# Find a good enough number of PCA components\n",
    "with mlflow.start_run(experiment_id=experiment_id):\n",
    "    pca = PCA(n_components=number_of_features, random_state=random_state)\n",
    "    pca_fit = pca.fit(X_train)\n",
    "    cumsum = np.cumsum(pca_fit.explained_variance_ratio_)\n",
    "    pca_components = np.argmax(cumsum >= desired_variance_captured) + 1\n",
    "    \n",
    "    # Log params\n",
    "    mlflow.log_param(\"random_state\", random_state)\n",
    "    mlflow.log_param(\"initial pca_components\", number_of_features)\n",
    "    mlflow.log_param(\"variance captured\", desired_variance_captured)\n",
    "    \n",
    "    mlflow.log_metric(\"calculated pca_components\", pca_components)"
   ]
  },
  {
   "cell_type": "code",
   "execution_count": 11,
   "metadata": {},
   "outputs": [
    {
     "name": "stdout",
     "output_type": "stream",
     "text": [
      "Optimal number of PCA components: 153\n"
     ]
    }
   ],
   "source": [
    "print(\"Optimal number of PCA components: %s\" % pca_components)"
   ]
  },
  {
   "cell_type": "code",
   "execution_count": 12,
   "metadata": {},
   "outputs": [],
   "source": [
    "pca = PCA(n_components=pca_components, random_state=random_state)\n",
    "pca_fit = pca.fit(X_train)\n",
    "\n",
    "X_train_pca = pca_fit.transform(X_train)\n",
    "X_test_pca = pca_fit.transform(X_test)"
   ]
  },
  {
   "cell_type": "markdown",
   "metadata": {},
   "source": [
    "# RandomForestClassifier"
   ]
  },
  {
   "cell_type": "code",
   "execution_count": 13,
   "metadata": {},
   "outputs": [
    {
     "name": "stdout",
     "output_type": "stream",
     "text": [
      "Experiment id: 2\n"
     ]
    }
   ],
   "source": [
    "experiment_id = mlflow.create_experiment(\"RandomForestClassifier\")\n",
    "print(\"Experiment id: %d\" % experiment_id)"
   ]
  },
  {
   "cell_type": "code",
   "execution_count": 14,
   "metadata": {},
   "outputs": [
    {
     "name": "stdout",
     "output_type": "stream",
     "text": [
      "Accuracy on cross-validation set: 0.9419 (+/- 0.0063)\n",
      "Accuracy on test set: 0.9364\n"
     ]
    }
   ],
   "source": [
    "from sklearn.ensemble import RandomForestClassifier\n",
    "from sklearn.model_selection import cross_val_score\n",
    "from sklearn.metrics import accuracy_score\n",
    "\n",
    "n_trees = 100\n",
    "cv = 7\n",
    "criterion = \"gini\"\n",
    "\n",
    "with mlflow.start_run(experiment_id=experiment_id):\n",
    "    \n",
    "    # Cross validation\n",
    "    clf = RandomForestClassifier(n_estimators=n_trees, criterion=criterion, random_state=random_state, n_jobs=-1)\n",
    "    scores = cross_val_score(clf, X_train_pca, y_train, cv=cv)\n",
    "    cv_accuracy = scores.mean()\n",
    "    cv_error = scores.std() * 2\n",
    "    \n",
    "    #Test \n",
    "    clf.fit(X_train_pca, y_train)\n",
    "    test_accuracy = accuracy_score(y_test, clf.predict(X_test_pca))\n",
    "    \n",
    "    # Log params and metrics\n",
    "    mlflow.log_param(\"random_state\", random_state)\n",
    "    mlflow.log_param(\"n_trees\", n_trees)\n",
    "    mlflow.log_param(\"cv\", cv)\n",
    "    mlflow.log_param(\"criterion\", criterion)\n",
    "    mlflow.log_param(\"pca_components\", pca_components)\n",
    "\n",
    "    mlflow.log_metric(\"test_accuracy\", test_accuracy)\n",
    "    mlflow.log_metric(\"cv_accuracy\", cv_accuracy)\n",
    "    mlflow.log_metric(\"cv_error\", cv_error)\n",
    "\n",
    "    print(\"Accuracy on cross-validation set: %0.4f (+/- %0.4f)\" % (cv_accuracy, cv_error))\n",
    "    print(\"Accuracy on test set: %0.4f\" % test_accuracy)\n",
    "    \n",
    "    mlflow.sklearn.log_model(clf, \"model\")"
   ]
  },
  {
   "cell_type": "markdown",
   "metadata": {},
   "source": [
    "## Generate test predictions"
   ]
  },
  {
   "cell_type": "code",
   "execution_count": 15,
   "metadata": {},
   "outputs": [],
   "source": [
    "clf = RandomForestClassifier(n_estimators=n_trees, criterion=criterion, random_state=random_state, n_jobs=-1)\n",
    "\n",
    "generate_test_predictions(clf, \"RandomForestClassifier\", pca_components=pca_components, random_state=random_state)"
   ]
  },
  {
   "cell_type": "markdown",
   "metadata": {},
   "source": [
    "# GridSearchCV with RandomForestClassifier"
   ]
  },
  {
   "cell_type": "markdown",
   "metadata": {},
   "source": [
    "** Please note that this step is very slow, since it has to try all posible combinations described in *param_grid* **"
   ]
  },
  {
   "cell_type": "code",
   "execution_count": 16,
   "metadata": {
    "scrolled": false
   },
   "outputs": [
    {
     "name": "stdout",
     "output_type": "stream",
     "text": [
      "Fitting 3 folds for each of 2 candidates, totalling 6 fits\n"
     ]
    },
    {
     "name": "stderr",
     "output_type": "stream",
     "text": [
      "/usr/local/lib/python3.5/dist-packages/sklearn/cross_validation.py:41: DeprecationWarning: This module was deprecated in version 0.18 in favor of the model_selection module into which all the refactored classes and functions are moved. Also note that the interface of the new CV iterators are different from that of this module. This module will be removed in 0.20.\n",
      "  \"This module will be removed in 0.20.\", DeprecationWarning)\n",
      "/usr/local/lib/python3.5/dist-packages/sklearn/grid_search.py:42: DeprecationWarning: This module was deprecated in version 0.18 in favor of the model_selection module into which all the refactored classes and functions are moved. This module will be removed in 0.20.\n",
      "  DeprecationWarning)\n",
      "[Parallel(n_jobs=-1)]: Done   6 out of   6 | elapsed:   45.9s finished\n"
     ]
    },
    {
     "data": {
      "text/plain": [
       "GridSearchCV(cv=3, error_score='raise',\n",
       "       estimator=RandomForestClassifier(bootstrap=True, class_weight=None, criterion='gini',\n",
       "            max_depth=None, max_features='auto', max_leaf_nodes=None,\n",
       "            min_impurity_decrease=0.0, min_impurity_split=None,\n",
       "            min_samples_leaf=1, min_samples_split=2,\n",
       "            min_weight_fraction_leaf=0.0, n_estimators=10, n_jobs=1,\n",
       "            oob_score=False, random_state=None, verbose=0,\n",
       "            warm_start=False),\n",
       "       fit_params={}, iid=True, n_jobs=-1,\n",
       "       param_grid={'random_state': [2018], 'max_features': ['auto'], 'max_depth': [None], 'n_estimators': [10, 20], 'criterion': ['entropy']},\n",
       "       pre_dispatch='2*n_jobs', refit=True, scoring='accuracy', verbose=1)"
      ]
     },
     "execution_count": 16,
     "metadata": {},
     "output_type": "execute_result"
    }
   ],
   "source": [
    "from sklearn.grid_search import GridSearchCV\n",
    "from sklearn.ensemble import RandomForestClassifier\n",
    "\n",
    "estimator = RandomForestClassifier()\n",
    "cv = 3\n",
    "\n",
    "param_grid = {\n",
    "    \"n_estimators\" : [10, 20, 50, 100, 300],\n",
    "    \"criterion\" : [\"gini\", \"entropy\"],\n",
    "    \"max_features\" : [pca_components, \"auto\", \"log2\", \"sqrt\"],\n",
    "    \"max_depth\" : [5,10,20,None],\n",
    "    \"random_state\": [random_state]\n",
    "}\n",
    "\n",
    "param_grid = {\n",
    "    \"n_estimators\" : [10, 20],\n",
    "    \"criterion\" : [\"entropy\"],\n",
    "    \"max_features\" : [\"auto\"],\n",
    "    \"max_depth\" : [None],\n",
    "    \"random_state\": [random_state]\n",
    "}\n",
    "\n",
    "gridSearch = GridSearchCV(estimator=estimator, scoring='accuracy', param_grid=param_grid, cv=cv, verbose=1, n_jobs=-1)\n",
    "\n",
    "gridSearch.fit(X_train_pca, y_train)"
   ]
  },
  {
   "cell_type": "code",
   "execution_count": 17,
   "metadata": {},
   "outputs": [
    {
     "name": "stdout",
     "output_type": "stream",
     "text": [
      "Experiment id: 3\n"
     ]
    }
   ],
   "source": [
    "experiment_id = mlflow.create_experiment(\"GridSearchCV using RF\")\n",
    "print(\"Experiment id: %d\" % experiment_id)"
   ]
  },
  {
   "cell_type": "code",
   "execution_count": 18,
   "metadata": {},
   "outputs": [],
   "source": [
    "for score in gridSearch.grid_scores_:\n",
    "    with mlflow.start_run(experiment_id=experiment_id):\n",
    "        mlflow.log_param(\"cv\", cv)\n",
    "        mlflow.log_param(\"pca_components\", pca_components)\n",
    "        mlflow.log_param(\"random_state\", random_state)\n",
    "\n",
    "        n_estimators = score.parameters[\"n_estimators\"]\n",
    "        criterion = score.parameters[\"criterion\"]\n",
    "        max_features = score.parameters[\"max_features\"]\n",
    "        max_depth = score.parameters[\"max_depth\"]\n",
    "        cv_accuracy = score.mean_validation_score\n",
    "\n",
    "        mlflow.log_param(\"n_estimators\", n_estimators)\n",
    "        mlflow.log_param(\"criterion\", criterion)\n",
    "        mlflow.log_param(\"max_features\", max_features)\n",
    "        mlflow.log_param(\"max_depth\", max_depth)\n",
    "\n",
    "        mlflow.log_metric(\"cv_accuracy\", cv_accuracy) "
   ]
  },
  {
   "cell_type": "markdown",
   "metadata": {},
   "source": [
    "## Generate test predictions"
   ]
  },
  {
   "cell_type": "code",
   "execution_count": 19,
   "metadata": {},
   "outputs": [],
   "source": [
    "clf = gridSearch.best_estimator_\n",
    "generate_test_predictions(clf, \"GridSearch+RandomForestClassifier\", pca_components=pca_components, random_state=random_state)"
   ]
  },
  {
   "cell_type": "markdown",
   "metadata": {},
   "source": [
    "# LDA"
   ]
  },
  {
   "cell_type": "code",
   "execution_count": 20,
   "metadata": {},
   "outputs": [
    {
     "name": "stdout",
     "output_type": "stream",
     "text": [
      "Experiment id: 4\n"
     ]
    }
   ],
   "source": [
    "experiment_id = mlflow.create_experiment(\"LDA\")\n",
    "print(\"Experiment id: %d\" % experiment_id)"
   ]
  },
  {
   "cell_type": "code",
   "execution_count": 21,
   "metadata": {},
   "outputs": [
    {
     "name": "stderr",
     "output_type": "stream",
     "text": [
      "/usr/local/lib/python3.5/dist-packages/sklearn/discriminant_analysis.py:442: UserWarning: The priors do not sum to 1. Renormalizing\n",
      "  UserWarning)\n",
      "/usr/local/lib/python3.5/dist-packages/sklearn/discriminant_analysis.py:442: UserWarning: The priors do not sum to 1. Renormalizing\n",
      "  UserWarning)\n"
     ]
    },
    {
     "name": "stdout",
     "output_type": "stream",
     "text": [
      "Accuracy on cross-validation set: 0.8683 (+/- 0.0100)\n",
      "Accuracy on test set: 0.8643\n"
     ]
    }
   ],
   "source": [
    "from sklearn.discriminant_analysis import LinearDiscriminantAnalysis as LDA\n",
    "\n",
    "cv = 7\n",
    "solver = \"svd\"\n",
    "shrinkage=None\n",
    "tol=0.0001\n",
    "\n",
    "with mlflow.start_run(experiment_id=experiment_id):\n",
    "\n",
    "    # Cross-Validation\n",
    "    clf = LDA(solver=solver, shrinkage=shrinkage, tol=tol)\n",
    "    scores = cross_val_score(clf, X_train_pca, y_train, cv=cv)\n",
    "    cv_accuracy = scores.mean()\n",
    "    cv_error = scores.std() * 2\n",
    "    \n",
    "    # Test\n",
    "    clf.fit(X_train_pca, y_train)\n",
    "    test_accuracy = accuracy_score(y_test, clf.predict(X_test_pca))\n",
    "    \n",
    "    # Log params and metrics\n",
    "    mlflow.log_param(\"cv\", cv)\n",
    "    \n",
    "    mlflow.log_param(\"solver\", solver)\n",
    "    mlflow.log_param(\"shrinkage\", shrinkage)\n",
    "    mlflow.log_param(\"tol\", tol)\n",
    "\n",
    "    mlflow.log_metric(\"test_accuracy\", test_accuracy)\n",
    "    mlflow.log_metric(\"cv_accuracy\", cv_accuracy)\n",
    "    mlflow.log_metric(\"cv_error\", cv_error)\n",
    "\n",
    "    print(\"Accuracy on cross-validation set: %0.4f (+/- %0.4f)\" % (cv_accuracy, cv_error))\n",
    "    print(\"Accuracy on test set: %0.4f\" % test_accuracy)\n",
    "    \n",
    "    mlflow.sklearn.log_model(clf, \"model\")"
   ]
  },
  {
   "cell_type": "markdown",
   "metadata": {},
   "source": [
    "## Generate test predictions"
   ]
  },
  {
   "cell_type": "code",
   "execution_count": 22,
   "metadata": {},
   "outputs": [],
   "source": [
    "clf = LDA(solver=solver, shrinkage=shrinkage, tol=tol)\n",
    "generate_test_predictions(clf, \"LDA\", pca_components=pca_components, random_state=random_state)"
   ]
  },
  {
   "cell_type": "markdown",
   "metadata": {},
   "source": [
    "# GradientBoostingClassifier with PCA"
   ]
  },
  {
   "cell_type": "code",
   "execution_count": 23,
   "metadata": {},
   "outputs": [
    {
     "name": "stdout",
     "output_type": "stream",
     "text": [
      "Experiment id: 5\n"
     ]
    }
   ],
   "source": [
    "experiment_id = mlflow.create_experiment(\"GradientBoostingClassifier\")\n",
    "print(\"Experiment id: %d\" % experiment_id)"
   ]
  },
  {
   "cell_type": "code",
   "execution_count": 24,
   "metadata": {},
   "outputs": [
    {
     "name": "stdout",
     "output_type": "stream",
     "text": [
      "Accuracy on cross-validation set: 0.8064 (+/- 0.0064)\n",
      "Accuracy on test set: 0.7998\n"
     ]
    }
   ],
   "source": [
    "from sklearn.ensemble import GradientBoostingClassifier\n",
    "from sklearn.model_selection import cross_val_score\n",
    "from sklearn.metrics import accuracy_score\n",
    "\n",
    "n_trees = 12\n",
    "cv = 7\n",
    "max_depth = 3\n",
    "\n",
    "with mlflow.start_run(experiment_id=experiment_id):\n",
    "    \n",
    "    # Cross-Validation\n",
    "    clf = GradientBoostingClassifier(n_estimators=n_trees,random_state=random_state, max_depth=max_depth)\n",
    "    \n",
    "    scores = cross_val_score(clf, X_train_pca, y_train, cv=cv)\n",
    "    cv_accuracy = scores.mean()\n",
    "    cv_error = scores.std() * 2\n",
    "    \n",
    "    # Test\n",
    "    clf.fit(X_train_pca, y_train)\n",
    "    test_accuracy = accuracy_score(y_test, clf.predict(X_test_pca))\n",
    "    \n",
    "    # Log params and metrics\n",
    "    mlflow.log_param(\"random_state\", random_state)\n",
    "    mlflow.log_param(\"n_trees\", n_trees)\n",
    "    mlflow.log_param(\"cv\", cv)\n",
    "    mlflow.log_param(\"max_depth\", max_depth)\n",
    "    mlflow.log_param(\"pca_components\", pca_components)\n",
    "\n",
    "    mlflow.log_metric(\"test_accuracy\", test_accuracy)\n",
    "    mlflow.log_metric(\"cv_accuracy\", cv_accuracy)\n",
    "    mlflow.log_metric(\"cv_error\", cv_error)\n",
    "\n",
    "    print(\"Accuracy on cross-validation set: %0.4f (+/- %0.4f)\" % (cv_accuracy, cv_error))\n",
    "    print(\"Accuracy on test set: %0.4f\" % test_accuracy)\n",
    "    \n",
    "    mlflow.sklearn.log_model(clf, \"model\")"
   ]
  },
  {
   "cell_type": "markdown",
   "metadata": {},
   "source": [
    "## Generate test predictions"
   ]
  },
  {
   "cell_type": "code",
   "execution_count": 25,
   "metadata": {},
   "outputs": [],
   "source": [
    "clf = GradientBoostingClassifier(n_estimators=n_trees,random_state=random_state, max_depth=max_depth)\n",
    "generate_test_predictions(clf, \"GradientBoostingClassifier\", pca_components=pca_components, random_state=random_state)"
   ]
  }
 ],
 "metadata": {
  "kernelspec": {
   "display_name": "Python 3",
   "language": "python",
   "name": "python3"
  },
  "language_info": {
   "codemirror_mode": {
    "name": "ipython",
    "version": 3
   },
   "file_extension": ".py",
   "mimetype": "text/x-python",
   "name": "python",
   "nbconvert_exporter": "python",
   "pygments_lexer": "ipython3",
   "version": "3.5.2"
  }
 },
 "nbformat": 4,
 "nbformat_minor": 2
}
